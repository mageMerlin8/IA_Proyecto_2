{
 "cells": [
  {
   "cell_type": "code",
   "execution_count": 39,
   "metadata": {},
   "outputs": [],
   "source": [
    "from pyswip import Prolog"
   ]
  },
  {
   "cell_type": "code",
   "execution_count": null,
   "metadata": {},
   "outputs": [],
   "source": []
  },
  {
   "cell_type": "code",
   "execution_count": 40,
   "metadata": {},
   "outputs": [],
   "source": [
    "def get_lista_turnos():\n",
    "    p = Prolog()\n",
    "    p.consult('prueba_ia_basico.pl')\n",
    "    Q = p.query('turno(F, J, L, N, LL)')\n",
    "    l = [{'Fi':q['F'], 'Jug':q['J'], 'Lado':q['L'], 'Turno':q['N'], 'Libre':q['LL']} for q in Q if q['F'] is not 0]\n",
    "    l.sort(key=lambda x: x['Turno'])\n",
    "    return l\n",
    "def separa(turnos):\n",
    "    c1 = []\n",
    "    c2 = []\n",
    "    for i in turnos:\n",
    "        if(i['Lado'] is 1):\n",
    "            c1.append(i)\n",
    "        elif(i['Lado'] is 2):\n",
    "            c2.append(i)\n",
    "        else:\n",
    "            c1.append(i)\n",
    "            c2.append(i)\n",
    "    return c1,c2\n",
    "def arma_cola_1(c1):\n",
    "    cola = []\n",
    "    for i in c1:\n",
    "        if(i['Libre'] is 1): cola.append(tuple(i['Fi'][::-1]))\n",
    "        else: cola.append(tuple(i['Fi']))\n",
    "    return cola\n",
    "def arma_cola_2(c2):\n",
    "    cola = []\n",
    "    for i in c2[::-1]:\n",
    "        if(i['Libre'] is 2): cola.append(tuple(i['Fi'][::-1]))\n",
    "        else: cola.append(tuple(i['Fi']))\n",
    "    return cola\n",
    "def arma_colas():\n",
    "    lista = get_lista_turnos()\n",
    "    c1,c2 = separa(lista)\n",
    "    cc1 = arma_cola_1(c1)\n",
    "    cc2 = arma_cola_2(c2)\n",
    "    return cc2[:-1]+cc1\n",
    "def cola_valida(cola):\n",
    "    \n",
    "    for i in range(1:len(cola)):\n",
    "        ficha1 = cola[i-1]\n",
    "        ficha2 = cola[i]\n",
    "        if(ficha1[1] is not ficha2[0]):\n",
    "            return false\n",
    "    return true"
   ]
  },
  {
   "cell_type": "code",
   "execution_count": 47,
   "metadata": {},
   "outputs": [
    {
     "data": {
      "text/plain": [
       "[(1, 0),\n",
       " (1, 5),\n",
       " (5, 0),\n",
       " (0, 0),\n",
       " (0, 2),\n",
       " (2, 2),\n",
       " (2, 6),\n",
       " (6, 1),\n",
       " (1, 1),\n",
       " (1, 4),\n",
       " (4, 5),\n",
       " (5, 5),\n",
       " (5, 3),\n",
       " (3, 2),\n",
       " (2, 5)]"
      ]
     },
     "execution_count": 47,
     "metadata": {},
     "output_type": "execute_result"
    }
   ],
   "source": [
    "cola = arma_colas()\n",
    "cola"
   ]
  },
  {
   "cell_type": "code",
   "execution_count": null,
   "metadata": {},
   "outputs": [],
   "source": []
  }
 ],
 "metadata": {
  "kernelspec": {
   "display_name": "Python 3",
   "language": "python",
   "name": "python3"
  },
  "language_info": {
   "codemirror_mode": {
    "name": "ipython",
    "version": 3
   },
   "file_extension": ".py",
   "mimetype": "text/x-python",
   "name": "python",
   "nbconvert_exporter": "python",
   "pygments_lexer": "ipython3",
   "version": "3.6.7"
  }
 },
 "nbformat": 4,
 "nbformat_minor": 2
}
